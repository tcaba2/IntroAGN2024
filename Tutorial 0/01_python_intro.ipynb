{
 "cells": [
  {
   "cell_type": "markdown",
   "metadata": {},
   "source": [
    "# Python crash course: Python basics"
   ]
  },
  {
   "cell_type": "markdown",
   "metadata": {},
   "source": [
    "Python is a programming language, and programming language is a formal language used to communicate with computers. It allows you to write instructions or code that a computer can understand and execute to perform specific tasks or solve problems. As an astrophysics student, programming can be a powerful tool to help you analyze and visualize data, simulate physical systems, and develop computational models.\n",
    "\n",
    "Programming languages have evolved in different directions and nowadays there are many different languages, see for example:\n",
    "http://en.wikipedia.org/wiki/List_of_programming_languages"
   ]
  },
  {
   "cell_type": "markdown",
   "metadata": {},
   "source": [
    "Python is very popular in science community, and here are a few reasons why this is the case:\n",
    "\n",
    "- **Versatility:** Python is a versatile programming language that can be used for various tasks, including data analysis, simulations, and machine learning. This makes it a useful tool for a wide range of astrophysical applications.\n",
    "- **Large community and resources:** Python has a large community of developers and users, which means there are many resources and libraries available. For example, there are specialized libraries for astrophysicists to analzye spectra, photometric data, interact with astronomical databases throgh API and much more (check out [Astropy Project](https://www.astropy.org/affiliated/index.html) where you can find a list of all supported packages). Astrophysicists also use [numpy](https://numpy.org/), [scipy](https://scipy.org/), [matplolib](https://matplotlib.org/) and other libraries very extensively. This saves time and allows us to focus on our research objective rather than reinventing the wheel.\n",
    "- **User-friendly:** Python is relatively easy to learn and use, with a clear syntax and readable code. This makes it accessible to scientists who may not have a background in programming.\n",
    "- **Free and open-source:** Python is free to use and open-source, which means that anyone can use it, modify it, and contribute to its development. This fosters collaboration and innovation within the scientific community."
   ]
  },
  {
   "cell_type": "markdown",
   "metadata": {},
   "source": [
    "## Assignments and data types"
   ]
  },
  {
   "cell_type": "markdown",
   "metadata": {},
   "source": [
    "You can think of Python as a really powerful calculator which will assist you in solving problems and performing analysis. In fact, much of what we build in Python amount to pipelines that string simple mathematical computations together and perform them on data.\n",
    "\n",
    "Unlike traditional calculators, Python allows us to store data for later use. We can store data as different kinds of Python objects. Just so you know, everything in Python is an object and has its place in computer memory, from integers and strings to functions and classes! \n",
    "\n",
    "A symbolic reference to a Python object (in this case, a number) in computer memory is called a *variable* and we call the process of storing data in a variable an *assignment*:"
   ]
  },
  {
   "cell_type": "code",
   "execution_count": 3,
   "metadata": {},
   "outputs": [],
   "source": [
    "answer = 42\n",
    "pi = 3.14\n",
    "a = 1000000.1"
   ]
  },
  {
   "cell_type": "markdown",
   "metadata": {},
   "source": [
    "Nothing seems to happen. But the computer silently stored the numbers in its memory. So what is then the way to check that indeed the numbers are stored? We have to use the variable name again to retrieve the values. We can type the name of the variable and press ``<shift><enter>`` again to see the result:"
   ]
  },
  {
   "cell_type": "code",
   "execution_count": 4,
   "metadata": {},
   "outputs": [
    {
     "data": {
      "text/plain": [
       "42"
      ]
     },
     "execution_count": 4,
     "metadata": {},
     "output_type": "execute_result"
    }
   ],
   "source": [
    "answer"
   ]
  },
  {
   "cell_type": "markdown",
   "metadata": {},
   "source": [
    "We mentioned that everything in Python is an object, and there are different types of objects:\n",
    "\n",
    " * Integers\n",
    " * Floats\n",
    " * Booleans (True or False)\n",
    " * Lists (collections of items) \n",
    " * Dictionaries (collections accessed via \"keys\") \n",
    " * Strings (contained in quotes \"like this\")\n",
    " * Tuples (like lists, but immutable (unchangeable)) \n",
    "\n",
    "Each of them has its own set of attributes and methods that define its behavior and capabilities.\n",
    "\n",
    "For example, a string object has methods like `upper()`, `lower()`, or `strip()` that allow you to manipulate the string's content. On the other hand, a numeric object like an integer or a float has methods like `abs()` and `round()`. A list has yet different methods, like `append()` or `reverse()`.\n",
    "\n",
    "For more information on built-in types in Python, check out these links:\n",
    "- https://www.w3schools.com/python/python_datatypes.asp\n",
    "- https://docs.python.org/3/library/stdtypes.html"
   ]
  },
  {
   "cell_type": "code",
   "execution_count": 5,
   "metadata": {},
   "outputs": [
    {
     "name": "stdout",
     "output_type": "stream",
     "text": [
      "<class 'int'>\n",
      "<class 'float'>\n"
     ]
    }
   ],
   "source": [
    "# check object type\n",
    "\n",
    "print(type(answer))\n",
    "print(type(pi))"
   ]
  },
  {
   "cell_type": "code",
   "execution_count": 6,
   "metadata": {},
   "outputs": [
    {
     "name": "stdout",
     "output_type": "stream",
     "text": [
      "<class 'str'>\n"
     ]
    }
   ],
   "source": [
    "# strings\n",
    "\n",
    "s= '   Hello World   '\n",
    "print(type(s))"
   ]
  },
  {
   "cell_type": "code",
   "execution_count": 7,
   "metadata": {},
   "outputs": [
    {
     "data": {
      "text/plain": [
       "'   HELLO WORLD   '"
      ]
     },
     "execution_count": 7,
     "metadata": {},
     "output_type": "execute_result"
    }
   ],
   "source": [
    "s.upper()"
   ]
  },
  {
   "cell_type": "code",
   "execution_count": 8,
   "metadata": {},
   "outputs": [
    {
     "data": {
      "text/plain": [
       "'Hello World'"
      ]
     },
     "execution_count": 8,
     "metadata": {},
     "output_type": "execute_result"
    }
   ],
   "source": [
    "s.strip()"
   ]
  },
  {
   "cell_type": "code",
   "execution_count": 9,
   "metadata": {},
   "outputs": [
    {
     "name": "stdout",
     "output_type": "stream",
     "text": [
      "<class 'float'>\n",
      "5.6\n",
      "-6\n"
     ]
    }
   ],
   "source": [
    "# floats\n",
    "\n",
    "n = -5.6\n",
    "print(type(n))\n",
    "\n",
    "print(abs(n))\n",
    "print(round(n))"
   ]
  },
  {
   "cell_type": "code",
   "execution_count": 10,
   "metadata": {},
   "outputs": [
    {
     "name": "stdout",
     "output_type": "stream",
     "text": [
      "<class 'bool'>\n",
      "False\n",
      "False\n",
      "True\n"
     ]
    }
   ],
   "source": [
    "# booleans\n",
    "\n",
    "bool1 = True\n",
    "bool2 = False\n",
    "print(type(bool1))\n",
    "\n",
    "print(bool1 and bool2)\n",
    "print(not bool1)\n",
    "print(bool1 or bool2)"
   ]
  },
  {
   "cell_type": "code",
   "execution_count": 11,
   "metadata": {},
   "outputs": [
    {
     "name": "stdout",
     "output_type": "stream",
     "text": [
      "<class 'list'>\n",
      "[1, 2, 3, 5, 8, 13]\n",
      "[1, 2, 3, 5, 8, 13, 21]\n"
     ]
    }
   ],
   "source": [
    "# lists\n",
    "\n",
    "l = [1,2,3,5,8,13]\n",
    "print(type(l))\n",
    "\n",
    "print(l)\n",
    "l.append(21)\n",
    "print(l)"
   ]
  },
  {
   "cell_type": "code",
   "execution_count": 12,
   "metadata": {},
   "outputs": [
    {
     "data": {
      "text/plain": [
       "5"
      ]
     },
     "execution_count": 12,
     "metadata": {},
     "output_type": "execute_result"
    }
   ],
   "source": [
    "l[3] # accessing individual elements in a list"
   ]
  },
  {
   "cell_type": "code",
   "execution_count": 13,
   "metadata": {},
   "outputs": [
    {
     "name": "stdout",
     "output_type": "stream",
     "text": [
      "1\n",
      "21\n",
      "[1, 2, 3, 5]\n",
      "[5, 8, 13, 21]\n",
      "[3, 5, 8]\n"
     ]
    }
   ],
   "source": [
    "print(l[0])   # first element\n",
    "print(l[-1])  # last element\n",
    "print(l[:4])  # first 4 elements\n",
    "print(l[-4:]) # last 4 elements\n",
    "print(l[2:5]) # elements with index 2,3 and 4"
   ]
  },
  {
   "cell_type": "code",
   "execution_count": 14,
   "metadata": {},
   "outputs": [
    {
     "name": "stdout",
     "output_type": "stream",
     "text": [
      "Python\n",
      "astronomers\n"
     ]
    }
   ],
   "source": [
    "# You can also use index on strings to slice different parts\n",
    "\n",
    "s1 = 'Python for astronomers'\n",
    "print(s1[:6])\n",
    "print(s1[11:])"
   ]
  },
  {
   "cell_type": "code",
   "execution_count": 15,
   "metadata": {},
   "outputs": [],
   "source": [
    "# Lists can contain different kinds of data (not limited to numerical data)\n",
    "\n",
    "L = [1121, 'string', True, ['python', 'rules']]"
   ]
  },
  {
   "cell_type": "markdown",
   "metadata": {},
   "source": [
    "**Note:** In Python, index starts with 0 instead of 1."
   ]
  },
  {
   "cell_type": "markdown",
   "metadata": {},
   "source": [
    "## Rules for variable names\n",
    "\n",
    "Variables in Python start with a character or underscore (\\_). Variable names are case sensitive so ``x`` and ``X`` are different variables. Don't use reserved words (python keywords) like `while` or `class`. You can find a list of python keywords [here](https://www.w3schools.com/python/python_ref_keywords.asp)."
   ]
  },
  {
   "cell_type": "code",
   "execution_count": 2,
   "metadata": {},
   "outputs": [
    {
     "ename": "SyntaxError",
     "evalue": "invalid syntax (598160304.py, line 1)",
     "output_type": "error",
     "traceback": [
      "\u001b[0;36m  File \u001b[0;32m\"/tmp/ipykernel_4436/598160304.py\"\u001b[0;36m, line \u001b[0;32m1\u001b[0m\n\u001b[0;31m    class = 'galaxy'\u001b[0m\n\u001b[0m          ^\u001b[0m\n\u001b[0;31mSyntaxError\u001b[0m\u001b[0;31m:\u001b[0m invalid syntax\n"
     ]
    }
   ],
   "source": [
    "class = 'galaxy'"
   ]
  },
  {
   "cell_type": "markdown",
   "metadata": {},
   "source": [
    "## Operators\n",
    "\n",
    "Your calculator can process expressions with numbers. A programming language for numerical work must support a wide range of mathematical functions and operators. Operators are symbols like ``+``,  ``-``, ``*`` and ``/``\n",
    "\n",
    "But we use programming language not just to perform calculations with numbers, it is much more useful if you can use variables in your expressions. Let's try to illustrate this with the next lines:"
   ]
  },
  {
   "cell_type": "code",
   "execution_count": 8,
   "metadata": {},
   "outputs": [
    {
     "data": {
      "text/plain": [
       "21.0"
      ]
     },
     "execution_count": 8,
     "metadata": {},
     "output_type": "execute_result"
    }
   ],
   "source": [
    "var1 = 10.5\n",
    "var2 = var1*2\n",
    "var2"
   ]
  },
  {
   "cell_type": "markdown",
   "metadata": {},
   "source": [
    "## Table with Python operators\n",
    "\n",
    "| Operator | Description |\n",
    "|----------|-------------|\n",
    "| +        | Addition Adds values on either side of the operator |\n",
    "| -        | Subtraction - Subtracts right hand operand from left hand operand |\n",
    "| \\*       | Multiplication - Multiplies values on either side of the operator |\n",
    "| /        | Division - Divides left hand operand by right hand operand |\n",
    "| %        | Modulus - Divides left hand operand by right hand operand and returns remainder |\n",
    "| &#42;&#42;|Exponent - Performs exponential (power) calculation on operators |\n",
    "| //       | Floor Division - The division of operands where the result is the quotient in which the digits after the decimal point are removed. |"
   ]
  },
  {
   "cell_type": "markdown",
   "metadata": {},
   "source": [
    "## Numbers in exponential notation\n",
    "To make a connection with physics as soon as possible we are going to play with the masses of the heaviest objects in our Solar system using Python variables. These objects are heavy and therefore we express their masses in the exponential notation. So how does one specify a number in this notation in Python? Here are two examples and prove that these numbers can be written in different ways:"
   ]
  },
  {
   "cell_type": "code",
   "execution_count": 9,
   "metadata": {},
   "outputs": [
    {
     "data": {
      "text/plain": [
       "0.0"
      ]
     },
     "execution_count": 9,
     "metadata": {},
     "output_type": "execute_result"
    }
   ],
   "source": [
    "x1 = 1000.0\n",
    "x2 = 1.0e3\n",
    "x2-x1"
   ]
  },
  {
   "cell_type": "code",
   "execution_count": 10,
   "metadata": {},
   "outputs": [
    {
     "data": {
      "text/plain": [
       "0.0"
      ]
     },
     "execution_count": 10,
     "metadata": {},
     "output_type": "execute_result"
    }
   ],
   "source": [
    "x1 = 0.0001\n",
    "x2 = 1.0e-4\n",
    "x2-x1"
   ]
  },
  {
   "cell_type": "markdown",
   "metadata": {},
   "source": [
    "\n",
    "Mass of the Planets and the Sun:\n",
    "\n",
    "| Rank            | Name              | Mass (kg)       |\n",
    "|:----------------|:------------------|----------------:|\n",
    "| 1 \t          | Sun               | 1.9891 x 10^30  |\n",
    "|2 \t|Jupiter |\t1.8986 x 10^27 |\n",
    "|3 \t|Saturn |\t5.6846 x 10^26 |\n",
    "|4 \t|Neptune |\t10.243 x 10^25 |\n",
    "|5 \t|Uranus |\t8.6810 x 10^25 |\n",
    "|6 \t|Earth \t|5.9736 x 10^24 |\n",
    "|7 \t|Venus \t|4.8685 x 10^24 |\n",
    "|8 \t|Mars \t|6.4185 x 10^23 |\n",
    "|9  |Mercury |\t3.3022 x 10^23 |\n",
    "|10 |Pluto|1.25 x 10^22 |"
   ]
  },
  {
   "cell_type": "markdown",
   "metadata": {},
   "source": [
    "## <font color='red'>Example</font>\n",
    "\n",
    "We learn more about: `exponential notation`, `dictionaries`, `lists`, `printing`\n",
    "\n",
    "Use the names of the object listed in the table with masses to calculate the sum of the 4 most heavy objects in our Solar System. How much heavier is the Sun compared to Earth? What is the average mass of planets in Solar System?"
   ]
  },
  {
   "cell_type": "code",
   "execution_count": 2,
   "metadata": {},
   "outputs": [],
   "source": [
    "# It seems natural to store the above table as a dictionary.\n",
    "\n",
    "# A dictionary is an unordered collection of elements, where each element consists of a key and a value. \n",
    "# The key is used to uniquely identify the element, while the value represents the data associated with that key.\n",
    "\n",
    "# Here are some advantages of dictionaries over lists:\n",
    "#\n",
    "# - With dictionaries we can access individual entries using keys (like, 'Sun' or 'Earth'), \n",
    "#   instead of numerical index (like we used in a list).\n",
    "#\n",
    "# - Efficient memory usage - dictionaries use memory more efficiently than lists for certain use cases,\n",
    "#   particularly when you need to store large datasets.\n",
    "#\n",
    "# - Better suited for unordered data - lists are ordered by index, so they are better suited for situations\n",
    "#   where the order of the elements matters. Dictionaries, on the other hand, are unordered, so they are \n",
    "#   better suited for situations where you need to quickly access data by a specific key or value, regardless \n",
    "#   of its position in the dataset.\n",
    "\n",
    "solar_system = {\n",
    "                'Jupyter' : 1.8986e27,\n",
    "                'Saturn' : 5.6846e26,\n",
    "                'Neptune' : 10.243e25,\n",
    "                'Uranus' : 8.6810e25,\n",
    "                'Earth' : 5.9736e24,\n",
    "                'Venus' : 4.8685e24,\n",
    "                'Mars' : 6.4185e24,\n",
    "                'Mercury' : 3.3022e23,\n",
    "                'Pluto' : 1.25e22,\n",
    "                'Sun' : 1.9891e30\n",
    "               }"
   ]
  },
  {
   "cell_type": "markdown",
   "metadata": {},
   "source": [
    "Basically, you don't need to know the order of elements upon creation of a dictionary to access the individual elements later. You just need to know the key of that particular element."
   ]
  },
  {
   "cell_type": "code",
   "execution_count": 5,
   "metadata": {},
   "outputs": [
    {
     "name": "stdout",
     "output_type": "stream",
     "text": [
      "Sum of the 4 most heavy objects in our solar system: 1.99e+30 kg\n"
     ]
    }
   ],
   "source": [
    "# Accessing values usng keys\n",
    "\n",
    "total = solar_system['Sun'] + solar_system['Jupyter'] + solar_system['Saturn'] + solar_system['Neptune']\n",
    "\n",
    "print(f'Sum of the 4 most heavy objects in our solar system: {total:.2e} kg')"
   ]
  },
  {
   "cell_type": "code",
   "execution_count": 21,
   "metadata": {},
   "outputs": [
    {
     "data": {
      "text/plain": [
       "[1.8986e+27,\n",
       " 5.6846e+26,\n",
       " 1.0243e+26,\n",
       " 8.681e+25,\n",
       " 5.9736e+24,\n",
       " 4.8685e+24,\n",
       " 6.4185e+24,\n",
       " 3.3022e+23,\n",
       " 1.25e+22,\n",
       " 1.9891e+30]"
      ]
     },
     "execution_count": 21,
     "metadata": {},
     "output_type": "execute_result"
    }
   ],
   "source": [
    "# Converting dictionary to list and accessing values directly\n",
    "\n",
    "# To calculate whole sample statistics, we don't need to know the keys\n",
    "\n",
    "ss_list = list(solar_system.values())\n",
    "ss_list"
   ]
  },
  {
   "cell_type": "code",
   "execution_count": 22,
   "metadata": {},
   "outputs": [
    {
     "name": "stdout",
     "output_type": "stream",
     "text": [
      "Sum of the 4 most heavy objects in our solar system: 1.99e+30 kg\n"
     ]
    }
   ],
   "source": [
    "ss_sorted = sorted(ss_list, reverse=True)  # sorted values by descending order\n",
    "first_four = ss_sorted[:4]                 # first 4 numbers in sorted list\n",
    "total = sum(first_four)\n",
    "print(f'Sum of the 4 most heavy objects in our solar system: {total:.2e} kg')"
   ]
  },
  {
   "cell_type": "code",
   "execution_count": 23,
   "metadata": {},
   "outputs": [
    {
     "data": {
      "text/plain": [
       "332981.79"
      ]
     },
     "execution_count": 23,
     "metadata": {},
     "output_type": "execute_result"
    }
   ],
   "source": [
    "# Sun to Earth ratio\n",
    "round(solar_system['Sun']/solar_system['Earth'],2)"
   ]
  },
  {
   "cell_type": "code",
   "execution_count": 6,
   "metadata": {},
   "outputs": [
    {
     "name": "stdout",
     "output_type": "stream",
     "text": [
      "{'Jupyter': 1.8986e+27, 'Saturn': 5.6846e+26, 'Neptune': 1.0243e+26, 'Uranus': 8.681e+25, 'Earth': 5.9736e+24, 'Venus': 4.8685e+24, 'Mars': 6.4185e+24, 'Mercury': 3.3022e+23, 'Pluto': 1.25e+22}\n",
      "\n",
      "Average mass of a planet in Solar System: 2.97e+26 kg\n"
     ]
    }
   ],
   "source": [
    "# Average mass of planets\n",
    "\n",
    "del solar_system['Sun'] # We are now left with only planets in the dictionary\n",
    "print(solar_system)\n",
    "\n",
    "ss_vals = solar_system.values() \n",
    "avg_mass = sum(ss_vals)/len(ss_vals)\n",
    "\n",
    "print()\n",
    "print(f'Average mass of a planet in Solar System: {avg_mass:.2e} kg')\n",
    "#print('Average mass of a planet in Solar System: {:.2e}'.format(avg_mass)) # alternative method of formating"
   ]
  },
  {
   "cell_type": "markdown",
   "metadata": {},
   "source": [
    "## Precedence rules for operators\n",
    "\n",
    "It is important to realize that the expression ``3+4*5`` is not the same as ``(3+4)*5``. This has to do that that an expression is evaluated from left to right and that there are rules of operator precedence. We summarize these rules in the table below:\n",
    "\n",
    "*-Precedence HIGH to LOW-*\n",
    "\n",
    "| Operator  |  Remark  |\n",
    "|-----------|----------|\n",
    "| ( )       | (anything within parentheses is done first)|\n",
    "| \\*\\*      | (exponentiation) |\n",
    "|-x, +x     | positive, negative |\n",
    "| \\*, /, %, //, +, -,&lt;, &gt;, &lt;=, &gt;=, !=, == | relational operators |"
   ]
  },
  {
   "cell_type": "markdown",
   "metadata": {},
   "source": [
    "## Mathematical functions\n",
    "\n",
    "A list with all mathematical functions is given on https://docs.python.org/3/library/math.html  \n",
    "We give some examples. To use mathematical functions, we need to import the **math** module."
   ]
  },
  {
   "cell_type": "code",
   "execution_count": 26,
   "metadata": {},
   "outputs": [
    {
     "name": "stdout",
     "output_type": "stream",
     "text": [
      "Sin(30) = 0.49999999999999994\n",
      "Original x = 29.999999999999996\n",
      "Original x = 30.000\n"
     ]
    }
   ],
   "source": [
    "from math import *     # Load all available mathematical functions\n",
    "\n",
    "x = 30  # degrees\n",
    "xrad = radians(x)\n",
    "y = sin(xrad)\n",
    "print('Sin(30) =', y)\n",
    "\n",
    "xrad = asin(y)\n",
    "x = degrees(xrad)\n",
    "print(\"Original x =\", x)\n",
    "print(f'Original x = {x:.3f}')"
   ]
  },
  {
   "cell_type": "markdown",
   "metadata": {},
   "source": [
    "The code seems trivial but there is much going on in these few lines.\n",
    "\n",
    "* The import statement made all mathematical functions available to the programmer\n",
    "* We used a function to convert degrees to radians, because the trigonometric functions (sin, cos, etc) work in radians only. We found this angular conversion function in  https://docs.python.org/3/library/math.html \n",
    "* We used the ``print()`` function to compose a message for the output.\n",
    "* We used the inverse sine function ``asin()`` to check that we can get back to the original value of ``x``.\n",
    "* We observe some rounding problems which are caused by a limited precision of floating point numbers. This can be avoided if you use a formatted print statement."
   ]
  },
  {
   "cell_type": "markdown",
   "metadata": {},
   "source": [
    "## Conditionals"
   ]
  },
  {
   "cell_type": "code",
   "execution_count": 27,
   "metadata": {},
   "outputs": [
    {
     "name": "stdout",
     "output_type": "stream",
     "text": [
      "True\n",
      "False\n",
      "True\n",
      "True\n",
      "True\n"
     ]
    }
   ],
   "source": [
    "condition = 5 > 3;       print(condition)\n",
    "condition = 3 < 0;       print(condition)\n",
    "condition = 4 == 4;      print(condition)\n",
    "condition = 3 >= 3;      print(condition)\n",
    "condition = 0 < 5 < 100; print(condition)"
   ]
  },
  {
   "cell_type": "markdown",
   "metadata": {},
   "source": [
    "But how do we use these conditions? We introduce the ``if`` and ``else`` statements here. These statements also uses **indentation** to distinguish code that must be executed if the condition is true and code that must be executed if the condition is false:"
   ]
  },
  {
   "cell_type": "code",
   "execution_count": 28,
   "metadata": {
    "code_folding": []
   },
   "outputs": [
    {
     "name": "stdout",
     "output_type": "stream",
     "text": [
      "M is between 500 and 1000\n"
     ]
    }
   ],
   "source": [
    "M = 555\n",
    "if M >= 1000:\n",
    "    print(\"M is more than 1000\")\n",
    "elif (M >= 500) and (M < 1000):\n",
    "    print(\"M is between 500 and 1000\")\n",
    "else:\n",
    "    print(\"M is not more than 500\")"
   ]
  },
  {
   "cell_type": "markdown",
   "metadata": {},
   "source": [
    "## Loops"
   ]
  },
  {
   "cell_type": "markdown",
   "metadata": {},
   "source": [
    "### For\n",
    "\n",
    "For more complicated calculations, one often needs to access the elements in the list one by one. This is usually done by *iterating over items in a sequence using a loop*.\n",
    "\n",
    "Python has a ``for`` statement to iterate. We use it as follows:"
   ]
  },
  {
   "cell_type": "code",
   "execution_count": 29,
   "metadata": {},
   "outputs": [
    {
     "name": "stdout",
     "output_type": "stream",
     "text": [
      "Sirius\n",
      "Arcturus\n",
      "Vega\n",
      "Capella\n",
      "Rigel\n",
      "Altair\n"
     ]
    }
   ],
   "source": [
    "stars = ['Sirius', 'Arcturus', 'Vega', 'Capella', 'Rigel', 'Altair']\n",
    "for name in stars:\n",
    "    print(name)"
   ]
  },
  {
   "cell_type": "code",
   "execution_count": 33,
   "metadata": {},
   "outputs": [
    {
     "name": "stdout",
     "output_type": "stream",
     "text": [
      "0\n",
      "1\n",
      "2\n",
      "3\n",
      "4\n",
      "5\n",
      "6\n",
      "7\n",
      "8\n",
      "9\n"
     ]
    }
   ],
   "source": [
    "# using range to generate a sequence of numbers\n",
    "\n",
    "for i in range(10):\n",
    "    print(i)"
   ]
  },
  {
   "cell_type": "code",
   "execution_count": 34,
   "metadata": {},
   "outputs": [
    {
     "name": "stdout",
     "output_type": "stream",
     "text": [
      "S in loop: 9.99\n",
      "S in loop: 19.98\n",
      "S in loop: 29.97\n",
      "S in loop: 39.96\n",
      "S in loop: 49.95\n",
      "Final value of S: 49.95\n"
     ]
    }
   ],
   "source": [
    "# using range to set the number of iterations\n",
    "\n",
    "S = 0.0\n",
    "step = 9.99\n",
    "for k in range(5):\n",
    "    S += step # equivalent to S = S + step\n",
    "    print(\"S in loop:\", S)\n",
    "    \n",
    "print(\"Final value of S:\", S)"
   ]
  },
  {
   "cell_type": "code",
   "execution_count": 35,
   "metadata": {},
   "outputs": [
    {
     "name": "stdout",
     "output_type": "stream",
     "text": [
      "Jupyter = 317.832\n",
      "Saturn = 95.162\n",
      "Neptune = 17.147\n",
      "Uranus = 14.532\n",
      "Earth = 1.000\n",
      "Venus = 0.815\n",
      "Mars = 1.074\n",
      "Mercury = 0.055\n",
      "Pluto = 0.002\n"
     ]
    }
   ],
   "source": [
    "# Calculate masses of solar system planets in Earth masses\n",
    "\n",
    "planet_names = solar_system.keys()\n",
    "planet_masses = solar_system.values()\n",
    "\n",
    "for name, mass in zip(planet_names, planet_masses): # iterate over two or more lists simultaneously\n",
    "    ratio = mass/solar_system['Earth']\n",
    "    print(f'{name} = {ratio:.3f}')"
   ]
  },
  {
   "cell_type": "code",
   "execution_count": 36,
   "metadata": {},
   "outputs": [
    {
     "name": "stdout",
     "output_type": "stream",
     "text": [
      "Sum of all values between 0 and 10: 23.3\n"
     ]
    }
   ],
   "source": [
    "# We can also add conditionals inside the loop\n",
    "\n",
    "mysum = 0.0\n",
    "vals = [0, -3, -2, 1, 4, 9, 9.3, 11, 12.4]\n",
    "for v in vals:\n",
    "    if 0 < v < 10:\n",
    "        mysum = mysum + v\n",
    "        \n",
    "print(\"Sum of all values between 0 and 10:\", mysum)"
   ]
  },
  {
   "cell_type": "markdown",
   "metadata": {},
   "source": [
    "Some explanation: We start with setting a variable to zero. This is a common technique if one wants to sum some numbers in a loop. In that loop we test the condition that a number must be between 0 and 10. If so, we add it to the sum. If not, we do nothing. Note the identation for the ``for`` loop and the ``if`` statement."
   ]
  },
  {
   "cell_type": "markdown",
   "metadata": {},
   "source": [
    "### While\n",
    "\n",
    "With while you specify a condition and as long the condition is valid, the indented block of code below the ``while`` is executed. Note that the line with ``while`` ends with a colon (:).\n",
    "\n",
    "Syntax:\n",
    "\n",
    "    while condition == True:\n",
    "       calculate something\n",
    "       change condition\n",
    "       \n",
    "So when the condition is not True anymore, the loop stops "
   ]
  },
  {
   "cell_type": "code",
   "execution_count": 37,
   "metadata": {},
   "outputs": [
    {
     "name": "stdout",
     "output_type": "stream",
     "text": [
      "Smallest value near the maximum: 9.239999999999998\n"
     ]
    }
   ],
   "source": [
    "maxlen = 9.23\n",
    "startlen = 0.0\n",
    "delta = 0.77\n",
    "while startlen < maxlen:\n",
    "    startlen = startlen + delta\n",
    "    \n",
    "print(\"Smallest value near the maximum:\", startlen)"
   ]
  },
  {
   "cell_type": "markdown",
   "metadata": {},
   "source": [
    "## Functions"
   ]
  },
  {
   "cell_type": "markdown",
   "metadata": {},
   "source": [
    "Good programming is measured not by the amount of code, but by a amount of *functionality* provided.\n",
    "\n",
    "Functions are a fundamental concept in programming that allow you to create reusable pieces of code that can be called from different parts of your program. They provide a way to break down a large and complex program into smaller, more manageable pieces that can be easier to understand, test, and maintain.\n",
    "\n",
    "In Python, functions have following characteristics:\n",
    "- name\n",
    "- parameters\n",
    "- docstring\n",
    "- body\n",
    "\n",
    "Let's see an example!"
   ]
  },
  {
   "cell_type": "code",
   "execution_count": 41,
   "metadata": {},
   "outputs": [],
   "source": [
    "def distance(redshift, H0 = 70):\n",
    "    \"\"\"\n",
    "    Calculates distance (in Mpc) to a galaxy at given redshift.\n",
    "    \"\"\"\n",
    "    c = 299792.458 # speed of light in km/s\n",
    "    D = redshift * c / H0\n",
    "    return round(D,2)"
   ]
  },
  {
   "cell_type": "code",
   "execution_count": 42,
   "metadata": {},
   "outputs": [
    {
     "data": {
      "text/plain": [
       "6632.58"
      ]
     },
     "execution_count": 42,
     "metadata": {},
     "output_type": "execute_result"
    }
   ],
   "source": [
    "distance(1.5, H0=67.8)"
   ]
  },
  {
   "cell_type": "code",
   "execution_count": 43,
   "metadata": {},
   "outputs": [
    {
     "data": {
      "text/plain": [
       "6424.12"
      ]
     },
     "execution_count": 43,
     "metadata": {},
     "output_type": "execute_result"
    }
   ],
   "source": [
    "distance(1.5)"
   ]
  },
  {
   "cell_type": "code",
   "execution_count": null,
   "metadata": {},
   "outputs": [],
   "source": []
  }
 ],
 "metadata": {
  "kernelspec": {
   "display_name": "Python 3 (ipykernel)",
   "language": "python",
   "name": "python3"
  },
  "language_info": {
   "codemirror_mode": {
    "name": "ipython",
    "version": 3
   },
   "file_extension": ".py",
   "mimetype": "text/x-python",
   "name": "python",
   "nbconvert_exporter": "python",
   "pygments_lexer": "ipython3",
   "version": "3.10.14"
  },
  "toc": {
   "base_numbering": 1,
   "nav_menu": {},
   "number_sections": true,
   "sideBar": true,
   "skip_h1_title": false,
   "title_cell": "Table of Contents",
   "title_sidebar": "Contents",
   "toc_cell": false,
   "toc_position": {},
   "toc_section_display": true,
   "toc_window_display": false
  },
  "varInspector": {
   "cols": {
    "lenName": 16,
    "lenType": 16,
    "lenVar": 40
   },
   "kernels_config": {
    "python": {
     "delete_cmd_postfix": "",
     "delete_cmd_prefix": "del ",
     "library": "var_list.py",
     "varRefreshCmd": "print(var_dic_list())"
    },
    "r": {
     "delete_cmd_postfix": ") ",
     "delete_cmd_prefix": "rm(",
     "library": "var_list.r",
     "varRefreshCmd": "cat(var_dic_list()) "
    }
   },
   "types_to_exclude": [
    "module",
    "function",
    "builtin_function_or_method",
    "instance",
    "_Feature"
   ],
   "window_display": false
  }
 },
 "nbformat": 4,
 "nbformat_minor": 4
}
