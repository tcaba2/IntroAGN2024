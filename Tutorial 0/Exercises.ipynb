{
 "cells": [
  {
   "cell_type": "markdown",
   "id": "04bef2c0",
   "metadata": {},
   "source": [
    "## Python exercises"
   ]
  },
  {
   "cell_type": "markdown",
   "id": "3b1343a9",
   "metadata": {},
   "source": [
    "**Exercise 1:** Calculate radial velocity and redshift given the rest wavelenght ($\\lambda_0$) and observational wavelenght ($\\lambda$) of the object. To spice things up, you should take into account both relativistic and non-relativistic cases for calculating radial velocity (take $0.1 c$ as threshold).\n",
    "\n",
    "Non-relativistic formula:\n",
    "\n",
    "$$z = \\frac{\\lambda - \\lambda_0}{\\lambda_0} = \\frac{\\Delta \\lambda}{\\lambda_0}= \\frac{v}{c}$$\n",
    "\n",
    "Relativistic formula:\n",
    "\n",
    "$$z = \\frac{\\Delta \\lambda}{\\lambda_0} = \\sqrt{\\frac{1+v/c}{1-v/c}} - 1$$\n",
    "\n",
    "\n",
    "Steps to create an implementation in Python:\n",
    "\n",
    "- Calculate redshift `z` using observed and rest wavelenghts\n",
    "- Use the given thrashold to decide which formula to use for calculating `v`. You can use the following Python construction:\n",
    "\n",
    "```\n",
    "if condition:\n",
    "   # relativistic formula\n",
    "   v = ...\n",
    "else:\n",
    "   # non-relativistic formula\n",
    "   v = ...\n",
    "```\n",
    "- print the values of `v` and `z` (nicely formated)"
   ]
  },
  {
   "cell_type": "code",
   "execution_count": 37,
   "id": "216072e9-8f60-49f7-9195-ae45b11379fd",
   "metadata": {},
   "outputs": [],
   "source": [
    "import numpy as np\n",
    "import matplotlib.pyplot as plt\n",
    "import astropy.constants as const\n",
    "import astropy.units as u"
   ]
  },
  {
   "cell_type": "code",
   "execution_count": 5,
   "id": "df3f3fcd",
   "metadata": {},
   "outputs": [
    {
     "name": "stdin",
     "output_type": "stream",
     "text": [
      "Please enter the rest wavelengh:  7\n",
      "Please enter the observational wavelengh:  10\n"
     ]
    },
    {
     "name": "stdout",
     "output_type": "stream",
     "text": [
      "The redshift is:  0.42857142857142855\n",
      "The velocity is:  128482482.0\n"
     ]
    }
   ],
   "source": [
    "# YOUR CODE HERE\n",
    "c = 299792458\n",
    "rwv = float(input(\"Please enter the rest wavelengh: \"))\n",
    "wv = float(input(\"Please enter the observational wavelengh: \"))\n",
    "\n",
    "z = (wv - rwv)/rwv\n",
    "\n",
    "print(\"The redshift is: \", z)\n",
    "\n",
    "if z > 0.1*c:\n",
    "    v = (z*c(z+2))/(z**2 + 2*z +2)\n",
    "else:\n",
    "    v = c*z\n",
    "\n",
    "print(\"The velocity is: \", v)"
   ]
  },
  {
   "cell_type": "markdown",
   "id": "12d24a5c",
   "metadata": {},
   "source": [
    "**Exercise 2:** Create a program that calculates the roots of a second degree polynomial $y=ax^2+bx+c$. Your program needs to know from the user what are the values are of a, b and c."
   ]
  },
  {
   "cell_type": "code",
   "execution_count": 8,
   "id": "19525a20",
   "metadata": {},
   "outputs": [
    {
     "name": "stdin",
     "output_type": "stream",
     "text": [
      "What is the value of the coeficient a:  6\n",
      "What is the value of the coeficient b:  13\n",
      "What is the value of the coeficient c:  6\n"
     ]
    },
    {
     "name": "stdout",
     "output_type": "stream",
     "text": [
      "x is equal to:  -0.6666666666666666\n",
      "x is equal to:  -1.5\n"
     ]
    }
   ],
   "source": [
    "# YOUR CODE HERE\n",
    "a = float(input(\"What is the value of the coeficient a: \"))\n",
    "b = float(input(\"What is the value of the coeficient b: \"))\n",
    "c = float(input(\"What is the value of the coeficient c: \"))\n",
    "\n",
    "xp = (-b + (b**2 - 4*a*c)**(1/2))/(2*a)\n",
    "xm = (-b - (b**2 - 4*a*c)**(1/2))/(2*a)\n",
    "\n",
    "print(\"x is equal to: \", xp)\n",
    "print(\"x is equal to: \", xm)"
   ]
  },
  {
   "cell_type": "markdown",
   "id": "b308e78b",
   "metadata": {},
   "source": [
    "**Exercise 3:** Write a function that calculates a distance to a star, given its apparent magnitude and absolute magnitude, in units of light-years."
   ]
  },
  {
   "cell_type": "code",
   "execution_count": 13,
   "id": "31d07069",
   "metadata": {},
   "outputs": [],
   "source": [
    "# YOUR CODE HERE\n",
    "def star_distance(m, M):\n",
    "    d = 10**((m/5)-(M/5)+1)\n",
    "    d_years = d/0.306601\n",
    "    return d_years"
   ]
  },
  {
   "cell_type": "code",
   "execution_count": 14,
   "id": "c05ef608-04eb-4323-b74d-2c5e9bdb429d",
   "metadata": {},
   "outputs": [
    {
     "data": {
      "text/plain": [
       "247415.2318580773"
      ]
     },
     "execution_count": 14,
     "metadata": {},
     "output_type": "execute_result"
    }
   ],
   "source": [
    "star_distance(15.2, -4.2)"
   ]
  },
  {
   "cell_type": "markdown",
   "id": "f2e28043",
   "metadata": {},
   "source": [
    "**Exercise 4:** Write a script that determines a quadrant for a given point in Cartesian coordinates.\n",
    "\n",
    "*Hint:* [atan2](https://www.geeksforgeeks.org/atan2-function-python/) function from `math` module could be of help."
   ]
  },
  {
   "cell_type": "code",
   "execution_count": 19,
   "id": "54dc250a",
   "metadata": {},
   "outputs": [
    {
     "name": "stdout",
     "output_type": "stream",
     "text": [
      "lies in First quadrant\n"
     ]
    }
   ],
   "source": [
    "# YOUR CODE HERE\n",
    "def quadrant(x, y): \n",
    "    if (x > 0 and y > 0): \n",
    "        print (\"lies in First quadrant\") \n",
    "  \n",
    "    elif (x < 0 and y > 0): \n",
    "        print (\"lies in Second quadrant\") \n",
    "          \n",
    "    elif (x < 0 and y < 0): \n",
    "        print (\"lies in Third quadrant\") \n",
    "      \n",
    "    elif (x > 0 and y < 0): \n",
    "        print (\"lies in Fourth quadrant\") \n",
    "          \n",
    "    elif (x == 0 and y > 0): \n",
    "        print (\"lies at positive y axis\") \n",
    "      \n",
    "    elif (x == 0 and y < 0): \n",
    "        print (\"lies at negative y axis\") \n",
    "      \n",
    "    elif (y == 0 and x < 0): \n",
    "        print (\"lies at negative x axis\") \n",
    "      \n",
    "    elif (y == 0 and x > 0): \n",
    "        print (\"lies at positive x axis\") \n",
    "      \n",
    "    else: \n",
    "        print (\"lies at origin\") \n",
    "  \n",
    "# Driver code      \n",
    "x = 1\n",
    "y = 1\n",
    "quadrant(x, y)"
   ]
  },
  {
   "cell_type": "markdown",
   "id": "958d2aa1",
   "metadata": {},
   "source": [
    "**Exercise 5:** Implement a function that calculates spectral radiance using the Planck's law. The function should have two input parameters: temperature and wavelength. Plot the spectral radiance as a function of wavelength for several values of temperature."
   ]
  },
  {
   "cell_type": "code",
   "execution_count": 38,
   "id": "43f4d283",
   "metadata": {},
   "outputs": [
    {
     "data": {
      "image/png": "[encoded data removed]",
      "text/plain": [
       "<Figure size 640x480 with 1 Axes>"
      ]
     },
     "metadata": {},
     "output_type": "display_data"
    }
   ],
   "source": [
    "# YOUR CODE HERE\n",
    "def planck(lam, T):\n",
    "    \"\"\"\n",
    "    A function to calculate the spectral radiance using the Planck's law\n",
    "    Inputs:\n",
    "    ------\n",
    "    lam: wavelength and T: temperature\n",
    "    Returns :\n",
    "    -------\n",
    "    B_lam: spectral radiance\n",
    "    \"\"\"\n",
    "\n",
    "    # add units to inputs\n",
    "\n",
    "\n",
    "    B_lam = 2 * const.h * const.c / ((lam * u.nm)**5 * np.e**((const.h * const.c)/ ((lam * u.nm) * const.k_B * (T * u.Kelvin))))\n",
    "\n",
    "    return B_lam\n",
    "\n",
    "lam = np.linspace(100, 2000, 1000)\n",
    "\n",
    "temp = [2500, 5000, 7500]\n",
    "\n",
    "for T in temp:\n",
    "    plt.plot(lam, planck(lam, T), label=str(T)+\"K\")\n",
    "\n",
    "plt.xlabel(r\"$\\lambda$ (nm)\")\n",
    "plt.ylabel(r\"$B_{\\lambda}$ $(W/m^3/sr)$\")\n",
    "plt.legend()\n",
    "plt.show()"
   ]
  },
  {
   "cell_type": "markdown",
   "id": "b1168099",
   "metadata": {},
   "source": [
    "**Exercise 6:** Can you replicate this plot using NumPy and matplotlib?\n",
    "\n",
    "<br>\n",
    "<div>\n",
    "<img src=\"assets/example.png\" width=\"400\"/>\n",
    "</div>\n",
    "\n",
    "Hints:\n",
    "- you can generate dummy data using [np.random.uniform](https://numpy.org/doc/stable/reference/random/generated/numpy.random.uniform.html) function.\n",
    "- you can use [np.where](https://numpy.org/doc/stable/reference/generated/numpy.where.html) to select relevant part of the parameter space."
   ]
  },
  {
   "cell_type": "code",
   "execution_count": 40,
   "id": "13242a75",
   "metadata": {},
   "outputs": [],
   "source": [
    "# YOUR CODE HERE"
   ]
  },
  {
   "cell_type": "code",
   "execution_count": null,
   "id": "34017867-c99d-4698-a60c-1259dc429d8a",
   "metadata": {},
   "outputs": [],
   "source": []
  }
 ],
 "metadata": {
  "kernelspec": {
   "display_name": "Python 3 (ipykernel)",
   "language": "python",
   "name": "python3"
  },
  "language_info": {
   "codemirror_mode": {
    "name": "ipython",
    "version": 3
   },
   "file_extension": ".py",
   "mimetype": "text/x-python",
   "name": "python",
   "nbconvert_exporter": "python",
   "pygments_lexer": "ipython3",
   "version": "3.10.14"
  },
  "toc": {
   "base_numbering": 1,
   "nav_menu": {},
   "number_sections": true,
   "sideBar": true,
   "skip_h1_title": false,
   "title_cell": "Table of Contents",
   "title_sidebar": "Contents",
   "toc_cell": false,
   "toc_position": {},
   "toc_section_display": true,
   "toc_window_display": false
  },
  "varInspector": {
   "cols": {
    "lenName": 16,
    "lenType": 16,
    "lenVar": 40
   },
   "kernels_config": {
    "python": {
     "delete_cmd_postfix": "",
     "delete_cmd_prefix": "del ",
     "library": "var_list.py",
     "varRefreshCmd": "print(var_dic_list())"
    },
    "r": {
     "delete_cmd_postfix": ") ",
     "delete_cmd_prefix": "rm(",
     "library": "var_list.r",
     "varRefreshCmd": "cat(var_dic_list()) "
    }
   },
   "types_to_exclude": [
    "module",
    "function",
    "builtin_function_or_method",
    "instance",
    "_Feature"
   ],
   "window_display": false
  }
 },
 "nbformat": 4,
 "nbformat_minor": 5
}
