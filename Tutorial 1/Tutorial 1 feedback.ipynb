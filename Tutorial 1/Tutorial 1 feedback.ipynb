{
 "cells": [
  {
   "cell_type": "markdown",
   "id": "cc1d47ec-86f2-47d2-8af8-7b192d010101",
   "metadata": {},
   "source": [
    "# Tutorial 1"
   ]
  },
  {
   "cell_type": "markdown",
   "id": "8a64e3b2-d4cc-4f1e-b892-3e451ee7a8eb",
   "metadata": {},
   "source": [
    "Thara Caba \\\n",
    "April 5 2024"
   ]
  },
  {
   "cell_type": "markdown",
   "id": "fa6314a1-e5ab-4e20-a227-c2098a1e955d",
   "metadata": {},
   "source": [
    "__a)__ Select galaxies and quasars with redshifts between 0.05 and 0.3 and signal-to-noise ratios greater than 35 near the Hβ line. Ensure that lines [O III] λ5007, Hβ λ4863, and Hγ λ4341 are present in emission and that the FWHM of Hβ is greater than 1000 km/s. For each selected spectrum, find the flux ratios of [OIII]/Hβ, Hβ/Hγ, and [O III]/Hγ, as well as the equivalent width and flux of Hβ, redshift, and extinction correction: E(B-V) of type SFD."
   ]
  },
  {
   "cell_type": "code",
   "execution_count": 1,
   "id": "5698caf3-9480-4fca-ac5b-036d828fb2f0",
   "metadata": {},
   "outputs": [],
   "source": [
    "import pandas as pd\n",
    "import numpy as np\n",
    "import matplotlib.pyplot as plt\n",
    "\n",
    "# from astropy.visualization import astropy_mpl_style\n",
    "from astropy.io import fits\n",
    "from astropy.utils.data import get_pkg_data_filename\n",
    "from astropy.table import Table"
   ]
  },
  {
   "cell_type": "markdown",
   "id": "8bf83460-1fef-4317-8c43-bcbddf1d5167",
   "metadata": {},
   "source": [
    "`SELECT` \\\n",
    "`s.plate, s.mjd, s.fiberid,` \\\n",
    "`s.z, g.subclass, g.e_bv_sfd,` \\\n",
    "`l.h_beta_flux, l.h_beta_eqw,` \\\n",
    "`(l.oiii_5007_flux/l.h_beta_flux) as oiii_h_beta_flux_ratio,` \\\n",
    "`(l.oiii_5007_flux/l.h_gamma_flux) as oiii_h_gamma_flux_ratio,` \\\n",
    "`(l.h_beta_flux/l.h_gamma_flux) as h_beta_h_gamma_flux_ratio` \n",
    "\n",
    "`FROM SpecObjAll AS s` \\\n",
    "`JOIN GalSpecInfo AS g ON s.specobjid = g.specobjid` \\\n",
    "`JOIN GalSpecLine AS l ON s.specobjid = l.specobjid`\n",
    "\n",
    "`WHERE` \\\n",
    "`(s.class = \"QSO\" OR s.class = \"GALAXY\")` \\\n",
    "`AND s.z BETWEEN 0.05 AND 0.3` \\\n",
    "`AND s.snmedian_g > 35` \\\n",
    "`AND l.h_gamma_eqw < 0` \\\n",
    "`AND l.h_beta_eqw < 0` \\\n",
    "`AND l.oiii_5007_eqw < 0` \\\n",
    "`AND l.h_gamma_flux <> 0` \\\n",
    "`AND l.h_beta_flux <> 0` \\\n",
    "`AND l.oiii_5007_flux <> 0` \\\n",
    "`AND l.sigma_balmer * 2.35 > 1000 `\n",
    "\n",
    "In the SQL query provided, the operator \"<>\" is used to denote \"not equal to\". So, for example, the condition `l.h_gamma_flux <> 0` means that the value of `l.h_gamma_flux` should not be equal to zero for a record to be included in the result set."
   ]
  },
  {
   "cell_type": "markdown",
   "id": "ec6eb528-6ccb-4628-b911-2e1747a366e8",
   "metadata": {},
   "source": [
    "__b)__ How many objects have you found? Which one from the conditions in WHERE is narrowing the results most severely?"
   ]
  },
  {
   "cell_type": "code",
   "execution_count": 2,
   "id": "59f2a058-74f5-4e06-aed6-66d019a95cb9",
   "metadata": {},
   "outputs": [
    {
     "ename": "FileNotFoundError",
     "evalue": "[Errno 2] No such file or directory: '/Users/tharacaba/Downloads/Skyserver_SQL4_10_2024 5_08_14 PM.csv'",
     "output_type": "error",
     "traceback": [
      "\u001b[0;31m---------------------------------------------------------------------------\u001b[0m",
      "\u001b[0;31mFileNotFoundError\u001b[0m                         Traceback (most recent call last)",
      "Cell \u001b[0;32mIn[2], line 1\u001b[0m\n\u001b[0;32m----> 1\u001b[0m df \u001b[38;5;241m=\u001b[39m \u001b[43mpd\u001b[49m\u001b[38;5;241;43m.\u001b[39;49m\u001b[43mread_csv\u001b[49m\u001b[43m(\u001b[49m\u001b[38;5;124;43m\"\u001b[39;49m\u001b[38;5;124;43m/Users/tharacaba/Downloads/Skyserver_SQL4_10_2024 5_08_14 PM.csv\u001b[39;49m\u001b[38;5;124;43m\"\u001b[39;49m\u001b[43m)\u001b[49m\n",
      "File \u001b[0;32m~/Library/Python/3.9/lib/python/site-packages/pandas/io/parsers/readers.py:1026\u001b[0m, in \u001b[0;36mread_csv\u001b[0;34m(filepath_or_buffer, sep, delimiter, header, names, index_col, usecols, dtype, engine, converters, true_values, false_values, skipinitialspace, skiprows, skipfooter, nrows, na_values, keep_default_na, na_filter, verbose, skip_blank_lines, parse_dates, infer_datetime_format, keep_date_col, date_parser, date_format, dayfirst, cache_dates, iterator, chunksize, compression, thousands, decimal, lineterminator, quotechar, quoting, doublequote, escapechar, comment, encoding, encoding_errors, dialect, on_bad_lines, delim_whitespace, low_memory, memory_map, float_precision, storage_options, dtype_backend)\u001b[0m\n\u001b[1;32m   1013\u001b[0m kwds_defaults \u001b[38;5;241m=\u001b[39m _refine_defaults_read(\n\u001b[1;32m   1014\u001b[0m     dialect,\n\u001b[1;32m   1015\u001b[0m     delimiter,\n\u001b[0;32m   (...)\u001b[0m\n\u001b[1;32m   1022\u001b[0m     dtype_backend\u001b[38;5;241m=\u001b[39mdtype_backend,\n\u001b[1;32m   1023\u001b[0m )\n\u001b[1;32m   1024\u001b[0m kwds\u001b[38;5;241m.\u001b[39mupdate(kwds_defaults)\n\u001b[0;32m-> 1026\u001b[0m \u001b[38;5;28;01mreturn\u001b[39;00m \u001b[43m_read\u001b[49m\u001b[43m(\u001b[49m\u001b[43mfilepath_or_buffer\u001b[49m\u001b[43m,\u001b[49m\u001b[43m \u001b[49m\u001b[43mkwds\u001b[49m\u001b[43m)\u001b[49m\n",
      "File \u001b[0;32m~/Library/Python/3.9/lib/python/site-packages/pandas/io/parsers/readers.py:620\u001b[0m, in \u001b[0;36m_read\u001b[0;34m(filepath_or_buffer, kwds)\u001b[0m\n\u001b[1;32m    617\u001b[0m _validate_names(kwds\u001b[38;5;241m.\u001b[39mget(\u001b[38;5;124m\"\u001b[39m\u001b[38;5;124mnames\u001b[39m\u001b[38;5;124m\"\u001b[39m, \u001b[38;5;28;01mNone\u001b[39;00m))\n\u001b[1;32m    619\u001b[0m \u001b[38;5;66;03m# Create the parser.\u001b[39;00m\n\u001b[0;32m--> 620\u001b[0m parser \u001b[38;5;241m=\u001b[39m \u001b[43mTextFileReader\u001b[49m\u001b[43m(\u001b[49m\u001b[43mfilepath_or_buffer\u001b[49m\u001b[43m,\u001b[49m\u001b[43m \u001b[49m\u001b[38;5;241;43m*\u001b[39;49m\u001b[38;5;241;43m*\u001b[39;49m\u001b[43mkwds\u001b[49m\u001b[43m)\u001b[49m\n\u001b[1;32m    622\u001b[0m \u001b[38;5;28;01mif\u001b[39;00m chunksize \u001b[38;5;129;01mor\u001b[39;00m iterator:\n\u001b[1;32m    623\u001b[0m     \u001b[38;5;28;01mreturn\u001b[39;00m parser\n",
      "File \u001b[0;32m~/Library/Python/3.9/lib/python/site-packages/pandas/io/parsers/readers.py:1620\u001b[0m, in \u001b[0;36mTextFileReader.__init__\u001b[0;34m(self, f, engine, **kwds)\u001b[0m\n\u001b[1;32m   1617\u001b[0m     \u001b[38;5;28mself\u001b[39m\u001b[38;5;241m.\u001b[39moptions[\u001b[38;5;124m\"\u001b[39m\u001b[38;5;124mhas_index_names\u001b[39m\u001b[38;5;124m\"\u001b[39m] \u001b[38;5;241m=\u001b[39m kwds[\u001b[38;5;124m\"\u001b[39m\u001b[38;5;124mhas_index_names\u001b[39m\u001b[38;5;124m\"\u001b[39m]\n\u001b[1;32m   1619\u001b[0m \u001b[38;5;28mself\u001b[39m\u001b[38;5;241m.\u001b[39mhandles: IOHandles \u001b[38;5;241m|\u001b[39m \u001b[38;5;28;01mNone\u001b[39;00m \u001b[38;5;241m=\u001b[39m \u001b[38;5;28;01mNone\u001b[39;00m\n\u001b[0;32m-> 1620\u001b[0m \u001b[38;5;28mself\u001b[39m\u001b[38;5;241m.\u001b[39m_engine \u001b[38;5;241m=\u001b[39m \u001b[38;5;28;43mself\u001b[39;49m\u001b[38;5;241;43m.\u001b[39;49m\u001b[43m_make_engine\u001b[49m\u001b[43m(\u001b[49m\u001b[43mf\u001b[49m\u001b[43m,\u001b[49m\u001b[43m \u001b[49m\u001b[38;5;28;43mself\u001b[39;49m\u001b[38;5;241;43m.\u001b[39;49m\u001b[43mengine\u001b[49m\u001b[43m)\u001b[49m\n",
      "File \u001b[0;32m~/Library/Python/3.9/lib/python/site-packages/pandas/io/parsers/readers.py:1880\u001b[0m, in \u001b[0;36mTextFileReader._make_engine\u001b[0;34m(self, f, engine)\u001b[0m\n\u001b[1;32m   1878\u001b[0m     \u001b[38;5;28;01mif\u001b[39;00m \u001b[38;5;124m\"\u001b[39m\u001b[38;5;124mb\u001b[39m\u001b[38;5;124m\"\u001b[39m \u001b[38;5;129;01mnot\u001b[39;00m \u001b[38;5;129;01min\u001b[39;00m mode:\n\u001b[1;32m   1879\u001b[0m         mode \u001b[38;5;241m+\u001b[39m\u001b[38;5;241m=\u001b[39m \u001b[38;5;124m\"\u001b[39m\u001b[38;5;124mb\u001b[39m\u001b[38;5;124m\"\u001b[39m\n\u001b[0;32m-> 1880\u001b[0m \u001b[38;5;28mself\u001b[39m\u001b[38;5;241m.\u001b[39mhandles \u001b[38;5;241m=\u001b[39m \u001b[43mget_handle\u001b[49m\u001b[43m(\u001b[49m\n\u001b[1;32m   1881\u001b[0m \u001b[43m    \u001b[49m\u001b[43mf\u001b[49m\u001b[43m,\u001b[49m\n\u001b[1;32m   1882\u001b[0m \u001b[43m    \u001b[49m\u001b[43mmode\u001b[49m\u001b[43m,\u001b[49m\n\u001b[1;32m   1883\u001b[0m \u001b[43m    \u001b[49m\u001b[43mencoding\u001b[49m\u001b[38;5;241;43m=\u001b[39;49m\u001b[38;5;28;43mself\u001b[39;49m\u001b[38;5;241;43m.\u001b[39;49m\u001b[43moptions\u001b[49m\u001b[38;5;241;43m.\u001b[39;49m\u001b[43mget\u001b[49m\u001b[43m(\u001b[49m\u001b[38;5;124;43m\"\u001b[39;49m\u001b[38;5;124;43mencoding\u001b[39;49m\u001b[38;5;124;43m\"\u001b[39;49m\u001b[43m,\u001b[49m\u001b[43m \u001b[49m\u001b[38;5;28;43;01mNone\u001b[39;49;00m\u001b[43m)\u001b[49m\u001b[43m,\u001b[49m\n\u001b[1;32m   1884\u001b[0m \u001b[43m    \u001b[49m\u001b[43mcompression\u001b[49m\u001b[38;5;241;43m=\u001b[39;49m\u001b[38;5;28;43mself\u001b[39;49m\u001b[38;5;241;43m.\u001b[39;49m\u001b[43moptions\u001b[49m\u001b[38;5;241;43m.\u001b[39;49m\u001b[43mget\u001b[49m\u001b[43m(\u001b[49m\u001b[38;5;124;43m\"\u001b[39;49m\u001b[38;5;124;43mcompression\u001b[39;49m\u001b[38;5;124;43m\"\u001b[39;49m\u001b[43m,\u001b[49m\u001b[43m \u001b[49m\u001b[38;5;28;43;01mNone\u001b[39;49;00m\u001b[43m)\u001b[49m\u001b[43m,\u001b[49m\n\u001b[1;32m   1885\u001b[0m \u001b[43m    \u001b[49m\u001b[43mmemory_map\u001b[49m\u001b[38;5;241;43m=\u001b[39;49m\u001b[38;5;28;43mself\u001b[39;49m\u001b[38;5;241;43m.\u001b[39;49m\u001b[43moptions\u001b[49m\u001b[38;5;241;43m.\u001b[39;49m\u001b[43mget\u001b[49m\u001b[43m(\u001b[49m\u001b[38;5;124;43m\"\u001b[39;49m\u001b[38;5;124;43mmemory_map\u001b[39;49m\u001b[38;5;124;43m\"\u001b[39;49m\u001b[43m,\u001b[49m\u001b[43m \u001b[49m\u001b[38;5;28;43;01mFalse\u001b[39;49;00m\u001b[43m)\u001b[49m\u001b[43m,\u001b[49m\n\u001b[1;32m   1886\u001b[0m \u001b[43m    \u001b[49m\u001b[43mis_text\u001b[49m\u001b[38;5;241;43m=\u001b[39;49m\u001b[43mis_text\u001b[49m\u001b[43m,\u001b[49m\n\u001b[1;32m   1887\u001b[0m \u001b[43m    \u001b[49m\u001b[43merrors\u001b[49m\u001b[38;5;241;43m=\u001b[39;49m\u001b[38;5;28;43mself\u001b[39;49m\u001b[38;5;241;43m.\u001b[39;49m\u001b[43moptions\u001b[49m\u001b[38;5;241;43m.\u001b[39;49m\u001b[43mget\u001b[49m\u001b[43m(\u001b[49m\u001b[38;5;124;43m\"\u001b[39;49m\u001b[38;5;124;43mencoding_errors\u001b[39;49m\u001b[38;5;124;43m\"\u001b[39;49m\u001b[43m,\u001b[49m\u001b[43m \u001b[49m\u001b[38;5;124;43m\"\u001b[39;49m\u001b[38;5;124;43mstrict\u001b[39;49m\u001b[38;5;124;43m\"\u001b[39;49m\u001b[43m)\u001b[49m\u001b[43m,\u001b[49m\n\u001b[1;32m   1888\u001b[0m \u001b[43m    \u001b[49m\u001b[43mstorage_options\u001b[49m\u001b[38;5;241;43m=\u001b[39;49m\u001b[38;5;28;43mself\u001b[39;49m\u001b[38;5;241;43m.\u001b[39;49m\u001b[43moptions\u001b[49m\u001b[38;5;241;43m.\u001b[39;49m\u001b[43mget\u001b[49m\u001b[43m(\u001b[49m\u001b[38;5;124;43m\"\u001b[39;49m\u001b[38;5;124;43mstorage_options\u001b[39;49m\u001b[38;5;124;43m\"\u001b[39;49m\u001b[43m,\u001b[49m\u001b[43m \u001b[49m\u001b[38;5;28;43;01mNone\u001b[39;49;00m\u001b[43m)\u001b[49m\u001b[43m,\u001b[49m\n\u001b[1;32m   1889\u001b[0m \u001b[43m\u001b[49m\u001b[43m)\u001b[49m\n\u001b[1;32m   1890\u001b[0m \u001b[38;5;28;01massert\u001b[39;00m \u001b[38;5;28mself\u001b[39m\u001b[38;5;241m.\u001b[39mhandles \u001b[38;5;129;01mis\u001b[39;00m \u001b[38;5;129;01mnot\u001b[39;00m \u001b[38;5;28;01mNone\u001b[39;00m\n\u001b[1;32m   1891\u001b[0m f \u001b[38;5;241m=\u001b[39m \u001b[38;5;28mself\u001b[39m\u001b[38;5;241m.\u001b[39mhandles\u001b[38;5;241m.\u001b[39mhandle\n",
      "File \u001b[0;32m~/Library/Python/3.9/lib/python/site-packages/pandas/io/common.py:873\u001b[0m, in \u001b[0;36mget_handle\u001b[0;34m(path_or_buf, mode, encoding, compression, memory_map, is_text, errors, storage_options)\u001b[0m\n\u001b[1;32m    868\u001b[0m \u001b[38;5;28;01melif\u001b[39;00m \u001b[38;5;28misinstance\u001b[39m(handle, \u001b[38;5;28mstr\u001b[39m):\n\u001b[1;32m    869\u001b[0m     \u001b[38;5;66;03m# Check whether the filename is to be opened in binary mode.\u001b[39;00m\n\u001b[1;32m    870\u001b[0m     \u001b[38;5;66;03m# Binary mode does not support 'encoding' and 'newline'.\u001b[39;00m\n\u001b[1;32m    871\u001b[0m     \u001b[38;5;28;01mif\u001b[39;00m ioargs\u001b[38;5;241m.\u001b[39mencoding \u001b[38;5;129;01mand\u001b[39;00m \u001b[38;5;124m\"\u001b[39m\u001b[38;5;124mb\u001b[39m\u001b[38;5;124m\"\u001b[39m \u001b[38;5;129;01mnot\u001b[39;00m \u001b[38;5;129;01min\u001b[39;00m ioargs\u001b[38;5;241m.\u001b[39mmode:\n\u001b[1;32m    872\u001b[0m         \u001b[38;5;66;03m# Encoding\u001b[39;00m\n\u001b[0;32m--> 873\u001b[0m         handle \u001b[38;5;241m=\u001b[39m \u001b[38;5;28;43mopen\u001b[39;49m\u001b[43m(\u001b[49m\n\u001b[1;32m    874\u001b[0m \u001b[43m            \u001b[49m\u001b[43mhandle\u001b[49m\u001b[43m,\u001b[49m\n\u001b[1;32m    875\u001b[0m \u001b[43m            \u001b[49m\u001b[43mioargs\u001b[49m\u001b[38;5;241;43m.\u001b[39;49m\u001b[43mmode\u001b[49m\u001b[43m,\u001b[49m\n\u001b[1;32m    876\u001b[0m \u001b[43m            \u001b[49m\u001b[43mencoding\u001b[49m\u001b[38;5;241;43m=\u001b[39;49m\u001b[43mioargs\u001b[49m\u001b[38;5;241;43m.\u001b[39;49m\u001b[43mencoding\u001b[49m\u001b[43m,\u001b[49m\n\u001b[1;32m    877\u001b[0m \u001b[43m            \u001b[49m\u001b[43merrors\u001b[49m\u001b[38;5;241;43m=\u001b[39;49m\u001b[43merrors\u001b[49m\u001b[43m,\u001b[49m\n\u001b[1;32m    878\u001b[0m \u001b[43m            \u001b[49m\u001b[43mnewline\u001b[49m\u001b[38;5;241;43m=\u001b[39;49m\u001b[38;5;124;43m\"\u001b[39;49m\u001b[38;5;124;43m\"\u001b[39;49m\u001b[43m,\u001b[49m\n\u001b[1;32m    879\u001b[0m \u001b[43m        \u001b[49m\u001b[43m)\u001b[49m\n\u001b[1;32m    880\u001b[0m     \u001b[38;5;28;01melse\u001b[39;00m:\n\u001b[1;32m    881\u001b[0m         \u001b[38;5;66;03m# Binary mode\u001b[39;00m\n\u001b[1;32m    882\u001b[0m         handle \u001b[38;5;241m=\u001b[39m \u001b[38;5;28mopen\u001b[39m(handle, ioargs\u001b[38;5;241m.\u001b[39mmode)\n",
      "\u001b[0;31mFileNotFoundError\u001b[0m: [Errno 2] No such file or directory: '/Users/tharacaba/Downloads/Skyserver_SQL4_10_2024 5_08_14 PM.csv'"
     ]
    }
   ],
   "source": [
    "df = pd.read_csv(\"/Users/tharacaba/Downloads/Skyserver_SQL4_10_2024 5_08_14 PM.csv\")"
   ]
  },
  {
   "cell_type": "markdown",
   "id": "6152ad12-6c61-4d3f-800b-607599e80942",
   "metadata": {},
   "source": [
    "<p style=\"color:orange;\">Natasa: Since your code is already on GitHub, I would suggest that you make the path so as to be executable for everyone who would clone your repo. The default starting path for your code is the directory in with your notebook lies. The code bellow would work for anyone running your code (you can adjuct the rest of it): </p>"
   ]
  },
  {
   "cell_type": "code",
   "execution_count": 3,
   "id": "fb2747a5-18e6-433c-9287-81ddb0d25a0f",
   "metadata": {},
   "outputs": [],
   "source": [
    "df = pd.read_csv(\"Skyserver_SQL4_10_2024 5_08_14 PM.csv\")"
   ]
  },
  {
   "cell_type": "code",
   "execution_count": 4,
   "id": "e7214c87-a422-4f62-bd31-363b9ac07d65",
   "metadata": {},
   "outputs": [
    {
     "data": {
      "text/html": [
       "<div>\n",
       "<style scoped>\n",
       "    .dataframe tbody tr th:only-of-type {\n",
       "        vertical-align: middle;\n",
       "    }\n",
       "\n",
       "    .dataframe tbody tr th {\n",
       "        vertical-align: top;\n",
       "    }\n",
       "\n",
       "    .dataframe thead th {\n",
       "        text-align: right;\n",
       "    }\n",
       "</style>\n",
       "<table border=\"1\" class=\"dataframe\">\n",
       "  <thead>\n",
       "    <tr style=\"text-align: right;\">\n",
       "      <th></th>\n",
       "      <th></th>\n",
       "      <th></th>\n",
       "      <th></th>\n",
       "      <th></th>\n",
       "      <th></th>\n",
       "      <th></th>\n",
       "      <th></th>\n",
       "      <th></th>\n",
       "      <th></th>\n",
       "      <th>#Table1</th>\n",
       "    </tr>\n",
       "  </thead>\n",
       "  <tbody>\n",
       "    <tr>\n",
       "      <th>plate</th>\n",
       "      <th>mjd</th>\n",
       "      <th>fiberid</th>\n",
       "      <th>z</th>\n",
       "      <th>subclass</th>\n",
       "      <th>e_bv_sfd</th>\n",
       "      <th>h_beta_flux</th>\n",
       "      <th>h_beta_eqw</th>\n",
       "      <th>oiii_h_beta_flux_ratio</th>\n",
       "      <th>oiii_h_gamma_flux_ratio</th>\n",
       "      <td>h_beta_h_gamma_flux_ratio</td>\n",
       "    </tr>\n",
       "    <tr>\n",
       "      <th>304</th>\n",
       "      <th>51609</th>\n",
       "      <th>408</th>\n",
       "      <th>0.05209216</th>\n",
       "      <th>NaN</th>\n",
       "      <th>0.03632782</th>\n",
       "      <th>116.535</th>\n",
       "      <th>-0.9988101</th>\n",
       "      <th>0.2246707</th>\n",
       "      <th>0.2314928</th>\n",
       "      <td>1.030365</td>\n",
       "    </tr>\n",
       "    <tr>\n",
       "      <th>1443</th>\n",
       "      <th>53055</th>\n",
       "      <th>358</th>\n",
       "      <th>0.2248686</th>\n",
       "      <th>STARBURST BROADLINE</th>\n",
       "      <th>0.02253275</th>\n",
       "      <th>4215.459</th>\n",
       "      <th>-21.6249</th>\n",
       "      <th>0.1243922</th>\n",
       "      <th>0.2960408</th>\n",
       "      <td>2.379898</td>\n",
       "    </tr>\n",
       "    <tr>\n",
       "      <th>1833</th>\n",
       "      <th>54561</th>\n",
       "      <th>567</th>\n",
       "      <th>0.05100999</th>\n",
       "      <th>NaN</th>\n",
       "      <th>0.04346284</th>\n",
       "      <th>51.26057</th>\n",
       "      <th>-0.4272045</th>\n",
       "      <th>1.151556</th>\n",
       "      <th>1.346378</th>\n",
       "      <td>1.169181</td>\n",
       "    </tr>\n",
       "    <tr>\n",
       "      <th>2102</th>\n",
       "      <th>54115</th>\n",
       "      <th>521</th>\n",
       "      <th>0.06168568</th>\n",
       "      <th>NaN</th>\n",
       "      <th>0.007514635</th>\n",
       "      <th>44.48927</th>\n",
       "      <th>-0.3869972</th>\n",
       "      <th>1.375886</th>\n",
       "      <th>1.818914</th>\n",
       "      <td>1.321995</td>\n",
       "    </tr>\n",
       "    <tr>\n",
       "      <th>...</th>\n",
       "      <th>...</th>\n",
       "      <th>...</th>\n",
       "      <th>...</th>\n",
       "      <th>...</th>\n",
       "      <th>...</th>\n",
       "      <th>...</th>\n",
       "      <th>...</th>\n",
       "      <th>...</th>\n",
       "      <th>...</th>\n",
       "      <td>...</td>\n",
       "    </tr>\n",
       "    <tr>\n",
       "      <th>2268</th>\n",
       "      <th>53682</th>\n",
       "      <th>451</th>\n",
       "      <th>0.05708254</th>\n",
       "      <th>NaN</th>\n",
       "      <th>0.02708664</th>\n",
       "      <th>27.26945</th>\n",
       "      <th>-0.2428704</th>\n",
       "      <th>1.896562</th>\n",
       "      <th>2.57737</th>\n",
       "      <td>1.358969</td>\n",
       "    </tr>\n",
       "    <tr>\n",
       "      <th>2294</th>\n",
       "      <th>53733</th>\n",
       "      <th>87</th>\n",
       "      <th>0.0503883</th>\n",
       "      <th>BROADLINE</th>\n",
       "      <th>0.02452809</th>\n",
       "      <th>86.54166</th>\n",
       "      <th>-0.8824288</th>\n",
       "      <th>1.969931</th>\n",
       "      <th>218.5636</th>\n",
       "      <td>110.9499</td>\n",
       "    </tr>\n",
       "    <tr>\n",
       "      <th>2533</th>\n",
       "      <th>54585</th>\n",
       "      <th>612</th>\n",
       "      <th>0.1472984</th>\n",
       "      <th>AGN BROADLINE</th>\n",
       "      <th>0.05242494</th>\n",
       "      <th>873.853</th>\n",
       "      <th>-8.637259</th>\n",
       "      <th>0.6300117</th>\n",
       "      <th>1.070857</th>\n",
       "      <td>1.699741</td>\n",
       "    </tr>\n",
       "    <tr>\n",
       "      <th>2649</th>\n",
       "      <th>54212</th>\n",
       "      <th>215</th>\n",
       "      <th>0.1266571</th>\n",
       "      <th>BROADLINE</th>\n",
       "      <th>0.05069542</th>\n",
       "      <th>2140.768</th>\n",
       "      <th>-8.841555</th>\n",
       "      <th>1.036598</th>\n",
       "      <th>1.910092</th>\n",
       "      <td>1.842654</td>\n",
       "    </tr>\n",
       "    <tr>\n",
       "      <th>2669</th>\n",
       "      <th>54086</th>\n",
       "      <th>451</th>\n",
       "      <th>0.08929483</th>\n",
       "      <th>BROADLINE</th>\n",
       "      <th>0.4328821</th>\n",
       "      <th>9483.637</th>\n",
       "      <th>-21.56355</th>\n",
       "      <th>0.5544354</th>\n",
       "      <th>1.097662</th>\n",
       "      <td>1.979783</td>\n",
       "    </tr>\n",
       "  </tbody>\n",
       "</table>\n",
       "<p>280 rows × 1 columns</p>\n",
       "</div>"
      ],
      "text/plain": [
       "                                                                                                                                                        #Table1\n",
       "plate mjd   fiberid z          subclass            e_bv_sfd    h_beta_flux h_beta_eqw oiii_h_beta_flux_ratio oiii_h_gamma_flux_ratio  h_beta_h_gamma_flux_ratio\n",
       "304   51609 408     0.05209216 NaN                 0.03632782  116.535     -0.9988101 0.2246707              0.2314928                                 1.030365\n",
       "1443  53055 358     0.2248686  STARBURST BROADLINE 0.02253275  4215.459    -21.6249   0.1243922              0.2960408                                 2.379898\n",
       "1833  54561 567     0.05100999 NaN                 0.04346284  51.26057    -0.4272045 1.151556               1.346378                                  1.169181\n",
       "2102  54115 521     0.06168568 NaN                 0.007514635 44.48927    -0.3869972 1.375886               1.818914                                  1.321995\n",
       "...                                                                                                                                                         ...\n",
       "2268  53682 451     0.05708254 NaN                 0.02708664  27.26945    -0.2428704 1.896562               2.57737                                   1.358969\n",
       "2294  53733 87      0.0503883  BROADLINE           0.02452809  86.54166    -0.8824288 1.969931               218.5636                                  110.9499\n",
       "2533  54585 612     0.1472984  AGN BROADLINE       0.05242494  873.853     -8.637259  0.6300117              1.070857                                  1.699741\n",
       "2649  54212 215     0.1266571  BROADLINE           0.05069542  2140.768    -8.841555  1.036598               1.910092                                  1.842654\n",
       "2669  54086 451     0.08929483 BROADLINE           0.4328821   9483.637    -21.56355  0.5544354              1.097662                                  1.979783\n",
       "\n",
       "[280 rows x 1 columns]"
      ]
     },
     "execution_count": 4,
     "metadata": {},
     "output_type": "execute_result"
    }
   ],
   "source": [
    "df"
   ]
  },
  {
   "cell_type": "markdown",
   "id": "0b988c6d-c74d-4fa3-ab70-36e15e35b763",
   "metadata": {},
   "source": [
    "There are 279 objects."
   ]
  },
  {
   "cell_type": "markdown",
   "id": "0851609c-51c2-4ef0-91ac-897b193c684f",
   "metadata": {},
   "source": [
    "`SELECT s.class, COUNT(*) as num_objects` \\\n",
    "\n",
    "`FROM SpecObjAll AS s` \\\n",
    "`JOIN GalSpecInfo AS g ON s.specobjid = g.specobjid` \\\n",
    "`JOIN GalSpecLine AS l ON s.specobjid = l.specobjid ` \n",
    "\n",
    "`WHERE` \\\n",
    "`(s.class = \"QSO\" OR s.class = \"GALAXY\")` \\\n",
    "`AND s.snmedian_g > 35 `\\\n",
    "`AND s.z BETWEEN 0.05 AND 0.3` \\\n",
    "`AND l.h_gamma_eqw < 0 `\\\n",
    "`AND l.h_beta_eqw < 0`\\\n",
    "`AND l.oiii_5007_eqw < 0`\\\n",
    "`AND l.h_gamma_flux <> 0`\\\n",
    "`AND l.h_beta_flux <> 0`\\\n",
    "`AND l.oiii_5007_flux <> 0`\\\n",
    "`AND l.sigma_balmer * 2.35 > 1000`\\\n",
    "\n",
    "`GROUP BY s.class`"
   ]
  },
  {
   "cell_type": "markdown",
   "id": "9f6841fa-d012-484a-8532-cc2d246a1599",
   "metadata": {},
   "source": [
    "Signal - to - noise is narrowing the results most severely."
   ]
  },
  {
   "cell_type": "markdown",
   "id": "edd5fc6a-50b2-4a73-a09c-6cdc8c42a5b9",
   "metadata": {},
   "source": [
    "__c)__ Find out if there is some of the Subclass AGN objects, with the same conditions under 1. Adopt your code to get result."
   ]
  },
  {
   "cell_type": "markdown",
   "id": "3fe05740-7381-4679-a1de-85959f5fd40f",
   "metadata": {},
   "source": [
    "BROADLINE AGN\n",
    "\n",
    "<p style=\"color:green;\">Natasa: Well done!</p>"
   ]
  },
  {
   "cell_type": "markdown",
   "id": "d66b0c7c-e35b-484a-9ae1-e1c8c4925e21",
   "metadata": {},
   "source": [
    "__d)__ Modify your solution under a) to include objects with redshift between 0.05 and 0.6. Using this modified solution and the list of objects (287-plate-mjd-fiber.txt) submit the SQL query via CrossID. "
   ]
  },
  {
   "cell_type": "markdown",
   "id": "546956ae-9d22-4949-91b0-8c948c41c67d",
   "metadata": {},
   "source": [
    "Using the options \"Spectra\", \"Nearest prime spectrum\", and \"plate-MJD-fiberID\":"
   ]
  },
  {
   "cell_type": "markdown",
   "id": "fe5b0cba-f4fe-492b-a848-9f3a333449ea",
   "metadata": {},
   "source": [
    "`SELECT` \\\n",
    "`s.plate, s.mjd, s.fiberid, `\\\n",
    "`s.z, g.subclass, g.e_bv_sfd,` \\\n",
    "`l.h_beta_flux, l.h_beta_eqw,`\\\n",
    "`(l.oiii_5007_flux/l.h_beta_flux) as oiii_h_beta_flux_ratio,`\\\n",
    "`(l.oiii_5007_flux/l.h_gamma_flux) as oiii_h_gamma_flux_ratio,`\\\n",
    "`(l.h_beta_flux/l.h_gamma_flux) as h_beta_h_gamma_flux_ratio`\n",
    "\n",
    "`FROM SpecObjAll AS s`\\\n",
    "`JOIN GalSpecInfo AS g ON s.specobjid = g.specobjid`\\\n",
    "`JOIN GalSpecLine AS l ON s.specobjid = l.specobjid`\n",
    "\n",
    "`WHERE`\\\n",
    "`(s.class = \"QSO\" OR s.class = \"GALAXY\")`\\\n",
    "`AND s.z BETWEEN 0.05 AND 0.6`\\\n",
    "`AND s.snmedian_g > 35`\\\n",
    "`AND l.h_gamma_eqw < 0`\\\n",
    "`AND l.h_beta_eqw < 0`\\\n",
    "`AND l.oiii_5007_eqw < 0`\\\n",
    "`AND l.h_gamma_flux <> 0`\\\n",
    "`AND l.h_beta_flux <> 0`\\\n",
    "`AND l.oiii_5007_flux <> 0`\\\n",
    "`AND l.sigma_balmer * 2.35 > 1000`"
   ]
  },
  {
   "cell_type": "code",
   "execution_count": null,
   "id": "a9c06f80-7667-4913-b550-e713f0885046",
   "metadata": {},
   "outputs": [],
   "source": [
    "dfs = pd.read_csv(\"/Users/tharacaba/Downloads/Skyserver_CrossID4_18_2024 9_37_09 AM.csv\")\n",
    "dfs"
   ]
  },
  {
   "cell_type": "markdown",
   "id": "2867d36c-55cb-4e87-a074-e7018a498353",
   "metadata": {},
   "source": [
    "__e)__ Check the spectra of found objects, download some of them using wget."
   ]
  },
  {
   "cell_type": "raw",
   "id": "7947cb27-a177-43f2-b1b2-2f744577e727",
   "metadata": {},
   "source": [
    "wget -i https://data.sdss.org/sas/dr18/spectro/sdss/redux/26/spectra/lite/0268/spec-0268-51633-0235.fits"
   ]
  },
  {
   "cell_type": "markdown",
   "id": "edcf03f0-6f32-4739-9436-aa010cad0051",
   "metadata": {},
   "source": [
    "__d)__ BONUS: read downloaded fits files and plot the spectra using Python."
   ]
  },
  {
   "cell_type": "code",
   "execution_count": null,
   "id": "c44d23db-a7a3-465b-8107-fbc1596d5360",
   "metadata": {},
   "outputs": [],
   "source": [
    "obj_1 = fits.open('/Users/tharacaba/Desktop/AGN/spec-0268-51633-0235.fits', memmap=True)"
   ]
  },
  {
   "cell_type": "code",
   "execution_count": null,
   "id": "382b79de-1987-4ec1-9018-509c97ecc28a",
   "metadata": {},
   "outputs": [],
   "source": [
    "print(obj_1[1].columns)"
   ]
  },
  {
   "cell_type": "code",
   "execution_count": null,
   "id": "0ffe31ea-8243-4eeb-8994-c47b15ded134",
   "metadata": {},
   "outputs": [],
   "source": [
    "obj_1_data = Table(obj_1[1].data)\n",
    "obj_1_data"
   ]
  },
  {
   "cell_type": "code",
   "execution_count": null,
   "id": "f2062d9c-3b69-4b7c-80de-f03a532ab73c",
   "metadata": {},
   "outputs": [],
   "source": [
    "plt.figure(figsize=(12, 5))\n",
    "plt.plot(obj_1_data['loglam'], obj_1_data['flux'], c='darkmagenta')\n",
    "\n",
    "plt.xlabel(r'Wavelength (log scale) [Ang]')\n",
    "plt.ylabel(r'Flux [$10^{-7}$ erg / s / cm$^2$ / Ang]')\n",
    "\n",
    "plt.title('Object SDSS J210001.24-071136.3 (0637-52174-0259)')\n",
    "\n",
    "# plt.savefig('spectra_plots/spectra_obj_1.pdf')\n",
    "\n",
    "plt.show()"
   ]
  },
  {
   "cell_type": "markdown",
   "id": "24da3108-5607-4a01-a3f8-0917ea1e4fe0",
   "metadata": {},
   "source": [
    "<p style=\"color:green;\">Natasa: Well done!</p>"
   ]
  },
  {
   "cell_type": "code",
   "execution_count": null,
   "id": "9e600b05-a24e-4cde-89a2-8d8aadc3ccbc",
   "metadata": {},
   "outputs": [],
   "source": []
  }
 ],
 "metadata": {
  "kernelspec": {
   "display_name": "Python 3 (ipykernel)",
   "language": "python",
   "name": "python3"
  },
  "language_info": {
   "codemirror_mode": {
    "name": "ipython",
    "version": 3
   },
   "file_extension": ".py",
   "mimetype": "text/x-python",
   "name": "python",
   "nbconvert_exporter": "python",
   "pygments_lexer": "ipython3",
   "version": "3.9.6"
  }
 },
 "nbformat": 4,
 "nbformat_minor": 5
}
